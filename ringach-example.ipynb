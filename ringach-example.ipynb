{
 "cells": [
  {
   "cell_type": "code",
   "execution_count": null,
   "metadata": {},
   "outputs": [],
   "source": [
    "%load_ext autoreload\n",
    "%autoreload 2\n",
    "\n",
    "from pathlib import Path\n",
    "from ringach import *\n",
    "\n",
    "# download the pvc-1 data set from https://crcns.org"
   ]
  },
  {
   "cell_type": "code",
   "execution_count": null,
   "metadata": {},
   "outputs": [],
   "source": [
    "# load entire preprocessed dataset into memory (downsampled and whitened)\n",
    "# data_dir is the directory containing pvc-1\n",
    "stim = RingachStimPreloaded(downsample=2, whitened=True, data_dir='.')\n",
    "stim.load()\n",
    "\n",
    "# e.g. extract frames 1,2,3 from movie 0, segment 1; and 4,5,6 from movie 0, segment 1\n",
    "# frames = stim.get_frames([(0, 0, np.array([1,2,3])), (0, 1, np.array([4,5,6]))], offset=-1)"
   ]
  },
  {
   "cell_type": "code",
   "execution_count": null,
   "metadata": {},
   "outputs": [],
   "source": [
    "# alternatively, load specific frames from disk and process as required\n",
    "stim = RingachStimPiecemeal(downsample=8, whitened=False, data_dir='.')\n",
    "\n",
    "# e.g. extract a 10x10 section from frames 1,2,3 from movie 0, segment 1; and 4,5,6 from movie 0, segment 1\n",
    "frames = stim.get_pixels([(0, 0, np.array([1,2,3])), (0, 1, np.array([4,5,6]))], x_min=5, y_min=5, orig_size=10)"
   ]
  },
  {
   "cell_type": "code",
   "execution_count": null,
   "metadata": {},
   "outputs": [],
   "source": [
    "# load data for a single channel and calculate STA, STASQDEV\n",
    "dataset_idx = 3\n",
    "channel_idx = 15\n",
    "data = RingachData(dataset_idx, channel_idx)\n",
    "offsets = [-26, -21, -16, -11, -6, -5, -4, -3, -2, -1, 0, 4]\n",
    "\n",
    "stas, sta_sqdevs = get_stas_sqdevs(data, stim, offsets)\n",
    "plot_stas_sqdevs(dataset_idx, channel_idx, offsets, stas, sta_sqdevs)"
   ]
  },
  {
   "cell_type": "code",
   "execution_count": null,
   "metadata": {},
   "outputs": [],
   "source": [
    "# generate figures of STA, STASQDEV for all units\n",
    "figdir = Path(\".\", \"figures\", \"sta_sqdev\")\n",
    "figdir.mkdir(parents=True, exist_ok=True)\n",
    "\n",
    "offsets = [-26, -21, -16, -11, -6, -5, -4, -3, -2, -1, 0, 4]\n",
    "\n",
    "dataset_idx = 0\n",
    "channel_idx = 0\n",
    "\n",
    "while True:\n",
    "    try:\n",
    "        print('Trying to get %d, %d' % (dataset_idx, channel_idx))\n",
    "        data = RingachData(dataset_idx, channel_idx)\n",
    "        print('Got data for %d, %d' % (dataset_idx, channel_idx))\n",
    "\n",
    "        stas, sta_sqdevs = get_stas_sqdevs(data, stim, offsets)\n",
    "        plot_stas_sqdevs(dataset_idx, channel_idx, offsets, stas, sta_sqdevs)\n",
    "        plt.savefig(Path(figdir, 'sta_sqdevs-%02d-%02d.svg' % (dataset_idx, channel_idx)))        \n",
    "        \n",
    "        channel_idx = channel_idx + 1\n",
    "    except IndexError:\n",
    "        if channel_idx == 0:\n",
    "            print('No more data files')\n",
    "            break\n",
    "        print('No more channels in this data file')\n",
    "        dataset_idx = dataset_idx + 1\n",
    "        channel_idx = 0\n",
    "        continue\n",
    "    except TypeError:\n",
    "        print('Data file has wrong format (probably not natural movies)')\n",
    "        dataset_idx = dataset_idx + 1\n",
    "        channel_idx = 0\n",
    "        continue"
   ]
  },
  {
   "cell_type": "code",
   "execution_count": null,
   "metadata": {},
   "outputs": [],
   "source": [
    "# show the STAs / STASQDEVs\n",
    "f = FigViewer(figdir)"
   ]
  }
 ],
 "metadata": {
  "kernelspec": {
   "display_name": "Python 3",
   "language": "python",
   "name": "python3"
  },
  "language_info": {
   "codemirror_mode": {
    "name": "ipython",
    "version": 3
   },
   "file_extension": ".py",
   "mimetype": "text/x-python",
   "name": "python",
   "nbconvert_exporter": "python",
   "pygments_lexer": "ipython3",
   "version": "3.7.6"
  }
 },
 "nbformat": 4,
 "nbformat_minor": 4
}
